{
 "cells": [
  {
   "cell_type": "code",
   "execution_count": 1,
   "metadata": {},
   "outputs": [],
   "source": [
    "import math\n",
    "import numpy as np\n",
    "import itk\n",
    "import itkwidgets\n",
    "from itkwidgets import view\n",
    "from ipywidgets import interactive\n",
    "import ipywidgets as widgets"
   ]
  },
  {
   "cell_type": "code",
   "execution_count": 2,
   "metadata": {},
   "outputs": [
    {
     "name": "stdout",
     "output_type": "stream",
     "text": [
      "itkSize3 ([512, 512, 204])\n",
      "itkSize3 ([512, 512, 204])\n",
      "itkVectorD3 ([0.416016, 0.416016, 0.625])\n",
      "itkPointD3 ([-116.8, -120, -196.875])\n"
     ]
    },
    {
     "data": {
      "application/vnd.jupyter.widget-view+json": {
       "model_id": "1d136f8158b04d0188e5f120a8308b05",
       "version_major": 2,
       "version_minor": 0
      },
      "text/plain": [
       "Viewer(geometries=[], gradient_opacity=0.5, point_sets=[], rendered_image=<itk.itkImagePython.itkImageF3; prox…"
      ]
     },
     "metadata": {},
     "output_type": "display_data"
    }
   ],
   "source": [
    "# 加载原始体数据并显示\n",
    "input_name = '/home/hja/Projects/3D2DRegister/ASOCA/Train_Masks/0.nrrd'\n",
    "volume_lung = itk.imread(input_name, itk.ctype('float'))  # 读取影像文件，并将数据格式转换为float\n",
    "print(volume_lung.GetLargestPossibleRegion().GetSize())\n",
    "print(volume_lung.GetBufferedRegion().GetSize())\n",
    "print(volume_lung.GetSpacing())\n",
    "print(volume_lung.GetOrigin())\n",
    "view(volume_lung, gradient_opacity=0.5, cmp=itkwidgets.cm.bone)"
   ]
  },
  {
   "cell_type": "code",
   "execution_count": 3,
   "metadata": {},
   "outputs": [],
   "source": [
    "output_image_pixel_spacing = [0.37, 0.37, 1]\n",
    "output_image_size = [512, 512, 1]  # [501, 501, 1]\n",
    "\n",
    "InputImageType = type(volume_lung)\n",
    "FilterType = itk.ResampleImageFilter[InputImageType, InputImageType]\n",
    "filter = FilterType.New()\n",
    "filter.SetInput(volume_lung)\n",
    "filter.SetDefaultPixelValue(0)\n",
    "filter.SetSize(output_image_size)\n",
    "filter.SetOutputSpacing(output_image_pixel_spacing)"
   ]
  },
  {
   "cell_type": "code",
   "execution_count": 4,
   "metadata": {},
   "outputs": [],
   "source": [
    "TransformType = itk.CenteredEuler3DTransform[itk.D]\n",
    "transform = TransformType.New()\n",
    "transform.SetComputeZYX(True)\n",
    "\n",
    "InterpolatorType = itk.RayCastInterpolateImageFunction[InputImageType, itk.D]\n",
    "interpolator = InterpolatorType.New()\n",
    "\n",
    "viewer = None"
   ]
  },
  {
   "cell_type": "code",
   "execution_count": 5,
   "metadata": {},
   "outputs": [],
   "source": [
    "def DigitallyReconstructedRadiograph(\n",
    "        ray_source_distance=100,\n",
    "        camera_tx=0.,\n",
    "        camera_ty=0.,\n",
    "        camera_tz=0.,\n",
    "        rotation_x=0.,\n",
    "        rotation_y=0.,\n",
    "        rotation_z=0.,\n",
    "        projection_normal_p_x=0.,\n",
    "        projection_normal_p_y=0.,\n",
    "        rotation_center_rt_volume_center_x=0.,\n",
    "        rotation_center_rt_volume_center_y=0.,\n",
    "        rotation_center_rt_volume_center_z=0.,\n",
    "        threshold=0.,\n",
    "):\n",
    "    \"\"\"\n",
    "    Parameters description:\n",
    "\n",
    "    ray_source_distance = 400                              # <-sid float>            Distance of ray source (focal point) focal point 400mm\n",
    "    camera_translation_parameter = [0., 0., 0.]            # <-t float float float>  Translation parameter of the camera\n",
    "    rotation_around_xyz = [0., 0., 0.]                     # <-rx float>             Rotation around x,y,z axis in degrees\n",
    "    projection_normal_position = [0, 0]                    # <-normal float float>   The 2D projection normal position [default: 0x0mm]\n",
    "    rotation_center_relative_to_volume_center = [0, 0, 0]  # <-cor float float float> The centre of rotation relative to centre of volume\n",
    "    threshold = 10                                          # <-threshold float>      Threshold [default: 0]\n",
    "    \"\"\"\n",
    "\n",
    "    dgree_to_radius_coef = 1. / 180. * math.pi\n",
    "    camera_translation_parameter = [camera_tx, camera_ty, camera_tz]\n",
    "    rotation_around_xyz = [rotation_x * dgree_to_radius_coef, rotation_y * dgree_to_radius_coef,\n",
    "                           rotation_z * dgree_to_radius_coef]\n",
    "    projection_normal_position = [projection_normal_p_x, projection_normal_p_y]\n",
    "    rotation_center_relative_to_volume_center = [\n",
    "        rotation_center_rt_volume_center_x,\n",
    "        rotation_center_rt_volume_center_y,\n",
    "        rotation_center_rt_volume_center_z\n",
    "    ]\n",
    "\n",
    "    imageOrigin = volume_lung.GetOrigin()\n",
    "    imageSpacing = volume_lung.GetSpacing()\n",
    "    imageRegion = volume_lung.GetBufferedRegion()\n",
    "    imageSize = imageRegion.GetSize()\n",
    "    imageCenter = [imageOrigin[i] + imageSpacing[i] * imageSize[i] / 2.0 for i in range(3)]\n",
    "\n",
    "    transform.SetTranslation(camera_translation_parameter)\n",
    "    transform.SetRotation(rotation_around_xyz[0], rotation_around_xyz[1], rotation_around_xyz[2])\n",
    "\n",
    "    center = [c + imageCenter[i] for i, c in enumerate(rotation_center_relative_to_volume_center)]\n",
    "    transform.SetCenter(center)\n",
    "\n",
    "    interpolator.SetTransform(transform)\n",
    "    interpolator.SetThreshold(threshold)\n",
    "    focalPoint = [imageCenter[0], imageCenter[1], imageCenter[2] - ray_source_distance / 2.0]\n",
    "    interpolator.SetFocalPoint(focalPoint)\n",
    "\n",
    "    filter.SetInterpolator(interpolator)\n",
    "    filter.SetTransform(transform)\n",
    "\n",
    "    origin = [\n",
    "        imageCenter[0] + projection_normal_position[0] - output_image_pixel_spacing[0] * (\n",
    "                    output_image_size[0] - 1) / 2.,\n",
    "        imageCenter[1] + projection_normal_position[1] - output_image_pixel_spacing[1] * (\n",
    "                    output_image_size[1] - 1) / 2.,\n",
    "        imageCenter[2] + imageSpacing[2] * imageSize[2]\n",
    "    ]\n",
    "\n",
    "    filter.SetOutputOrigin(origin)\n",
    "    filter.Update()\n",
    "\n",
    "    global viewer\n",
    "    if viewer is None:\n",
    "        viewer = view(filter.GetOutput(), mode='z')\n",
    "    else:\n",
    "        print(\"Update viewer image\")\n",
    "        viewer.image = filter.GetOutput()\n",
    "\n",
    "    # print informations\n",
    "    print(\"Volume image informations:\")\n",
    "    print(\"tvolume image origin : \", imageOrigin)\n",
    "    print(\"tvolume image size   : \", imageSize)\n",
    "    print(\"tvolume image spacing: \", imageSpacing)\n",
    "    print(\"tvolume image center : \", imageCenter)\n",
    "    print(\"Transform informations:\")\n",
    "    print(\"ttranslation         : \", camera_translation_parameter)\n",
    "    print(\"trotation            : \", rotation_around_xyz)\n",
    "    print(\"tcenter               : \", center)\n",
    "    print(\"Interpolator informations: \")\n",
    "    print(\"tthreshold           : \", threshold)\n",
    "    print(\"tfocalPoint          : \", focalPoint)\n",
    "    print(\"Filter informations:\")\n",
    "    print(\"toutput origin        : \", origin)"
   ]
  },
  {
   "cell_type": "code",
   "execution_count": 6,
   "metadata": {},
   "outputs": [
    {
     "name": "stdout",
     "output_type": "stream",
     "text": [
      "Volume image informations:\n",
      "tvolume image origin :  itkPointD3 ([-116.8, -120, -196.875])\n",
      "tvolume image size   :  itkSize3 ([512, 512, 204])\n",
      "tvolume image spacing:  itkVectorD3 ([0.416016, 0.416016, 0.625])\n",
      "tvolume image center :  [-10.299907051757813, -13.499904000000015, -133.125]\n",
      "Transform informations:\n",
      "ttranslation         :  [0.0, 0.0, 0.0]\n",
      "trotation            :  [0.0, 0.0, 0.0]\n",
      "tcenter               :  [-10.299907051757813, -13.499904000000015, -133.125]\n",
      "Interpolator informations: \n",
      "tthreshold           :  0.0\n",
      "tfocalPoint          :  [-10.299907051757813, -13.499904000000015, -183.125]\n",
      "Filter informations:\n",
      "toutput origin        :  [-104.83490705175781, -108.03490400000001, -5.624999999999972]\n"
     ]
    }
   ],
   "source": [
    "DigitallyReconstructedRadiograph()"
   ]
  },
  {
   "cell_type": "code",
   "execution_count": 11,
   "metadata": {},
   "outputs": [
    {
     "data": {
      "application/vnd.jupyter.widget-view+json": {
       "model_id": "ab6be360cb0d4f5e86fb2eb715ffcc9c",
       "version_major": 2,
       "version_minor": 0
      },
      "text/plain": [
       "VBox(children=(Viewer(background=(0.9333333333333333, 0.9333333333333333, 0.9333333333333333), camera=array([[…"
      ]
     },
     "metadata": {},
     "output_type": "display_data"
    }
   ],
   "source": [
    "slider = interactive(\n",
    "    DigitallyReconstructedRadiograph,\n",
    "    ray_source_distance=(0, 3000, 50),\n",
    "    camera_tx=(-800, 800,30),\n",
    "    camera_ty=(-800, 800,30),\n",
    "    camera_tz=(-800, 800,30),\n",
    "    rotation_x=(-180,180,15),\n",
    "    rotation_y=(-180,180,15),\n",
    "    rotation_z=(-180,180,15),\n",
    "    projection_normal_p_x=(-100,100,1),\n",
    "    projection_normal_p_y=(-100,100,1),\n",
    "    rotation_center_rt_volume_center_x=(-100,100,1),\n",
    "    rotation_center_rt_volume_center_y=(-100,100,1),\n",
    "    rotation_center_rt_volume_center_z=(-100,100,1),\n",
    ")\n",
    "\n",
    "widgets.VBox([viewer, slider])\n",
    "# 平移之后依然是围绕着center进行旋转，测试时，应当先旋转再平移"
   ]
  },
  {
   "cell_type": "code",
   "execution_count": null,
   "metadata": {},
   "outputs": [],
   "source": []
  }
 ],
 "metadata": {
  "kernelspec": {
   "display_name": "Python 3",
   "language": "python",
   "name": "python3"
  },
  "language_info": {
   "codemirror_mode": {
    "name": "ipython",
    "version": 3
   },
   "file_extension": ".py",
   "mimetype": "text/x-python",
   "name": "python",
   "nbconvert_exporter": "python",
   "pygments_lexer": "ipython3",
   "version": "3.7.6"
  }
 },
 "nbformat": 4,
 "nbformat_minor": 4
}
